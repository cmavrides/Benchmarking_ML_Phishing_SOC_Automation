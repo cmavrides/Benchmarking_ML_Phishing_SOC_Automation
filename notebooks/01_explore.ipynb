{
  "cells": [
    {
      "cell_type": "markdown",
      "metadata": {},
      "source": [
        "# 01 \u2013 Explore Datasets\n",
        "\n",
        "This notebook is a stub. Fill in analysis steps after preprocessing the datasets."
      ]
    }
  ],
  "metadata": {
    "kernelspec": {
      "display_name": "Python 3",
      "language": "python",
      "name": "python3"
    },
    "language_info": {
      "name": "python",
      "version": "3.10"
    }
  },
  "nbformat": 4,
  "nbformat_minor": 5
}